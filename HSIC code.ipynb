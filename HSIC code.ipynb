{
 "cells": [
  {
   "cell_type": "code",
   "execution_count": 1,
   "metadata": {},
   "outputs": [],
   "source": [
    "import math\n",
    "import numpy as np\n",
    "\n",
    "np.random.seed(42)\n",
    "\n",
    "def centering(K):\n",
    "    n = K.shape[0]\n",
    "    unit = np.ones([n, n])\n",
    "    I = np.eye(n)\n",
    "    Q = I - unit/n\n",
    "    \n",
    "    return np.dot(np.dot(Q, K), Q)\n",
    "\n",
    "def rbf(X, sigma=None):\n",
    "    GX = np.dot(X, X.T)\n",
    "    KX = np.diag(GX) - GX + (np.diag(GX) - GX).T\n",
    "    if sigma is None:\n",
    "        mdist = np.median(KX[KX != 0])\n",
    "        sigma = math.sqrt(mdist)\n",
    "    KX *= - 0.5 / sigma / sigma\n",
    "    np.exp(KX, KX)\n",
    "    return KX\n",
    "\n",
    "def HSIC(X, Y):\n",
    "    return np.sum(centering(rbf(X))*centering(rbf(Y)))\n",
    "\n"
   ]
  },
  {
   "cell_type": "code",
   "execution_count": 2,
   "metadata": {},
   "outputs": [
    {
     "name": "stdout",
     "output_type": "stream",
     "text": [
      "1.1574207203919076\n",
      "2.483280032360821\n",
      "1.5753355106592402\n",
      "1.1704704843705949\n"
     ]
    }
   ],
   "source": [
    "if __name__ == '__main__':\n",
    "    X = np.random.randn(10, 5)\n",
    "    Y = np.random.randn(10, 5)\n",
    "    Z = np.random.gamma(234, 21,(10, 5))\n",
    "    print(HSIC(X, Y))\n",
    "    print(HSIC(X, X))\n",
    "    print(HSIC(Y, Z))\n",
    "    print(HSIC(X, Z))"
   ]
  },
  {
   "cell_type": "code",
   "execution_count": 3,
   "metadata": {},
   "outputs": [
    {
     "data": {
      "text/plain": [
       "array([[ 0., -1., -1., -1., -1., -1., -1., -1., -1., -1.],\n",
       "       [-1.,  0., -1., -1., -1., -1., -1., -1., -1., -1.],\n",
       "       [-1., -1.,  0., -1., -1., -1., -1., -1., -1., -1.],\n",
       "       [-1., -1., -1.,  0., -1., -1., -1., -1., -1., -1.],\n",
       "       [-1., -1., -1., -1.,  0., -1., -1., -1., -1., -1.],\n",
       "       [-1., -1., -1., -1., -1.,  0., -1., -1., -1., -1.],\n",
       "       [-1., -1., -1., -1., -1., -1.,  0., -1., -1., -1.],\n",
       "       [-1., -1., -1., -1., -1., -1., -1.,  0., -1., -1.],\n",
       "       [-1., -1., -1., -1., -1., -1., -1., -1.,  0., -1.],\n",
       "       [-1., -1., -1., -1., -1., -1., -1., -1., -1.,  0.]])"
      ]
     },
     "execution_count": 3,
     "metadata": {},
     "output_type": "execute_result"
    }
   ],
   "source": [
    "n = X.shape[0]\n",
    "unit = np.ones([n, n])\n",
    "I = np.eye(n)\n",
    "Q = I - (1/n)*np.dot(np.ones(n),  np.ones(n).T)\n",
    "\n",
    "Q"
   ]
  },
  {
   "cell_type": "code",
   "execution_count": 4,
   "metadata": {},
   "outputs": [
    {
     "name": "stdout",
     "output_type": "stream",
     "text": [
      "[[False False False False False False False False False False]\n",
      " [False False False False False False False False False False]\n",
      " [False False False False False False False False False False]\n",
      " [False False False False False False False False False False]\n",
      " [False False False False False False False False False False]\n",
      " [False False False False False False False False False False]\n",
      " [False False False False False False False False False False]\n",
      " [False False False False False False False False False False]\n",
      " [False False False False False False False False False False]\n",
      " [False False False False False False False False False False]]\n"
     ]
    }
   ],
   "source": [
    "print(np.dot(np.dot(Q, rbf(X)), Q) == centering(rbf(X)))"
   ]
  },
  {
   "cell_type": "code",
   "execution_count": 5,
   "metadata": {},
   "outputs": [
    {
     "data": {
      "text/plain": [
       "10.0"
      ]
     },
     "execution_count": 5,
     "metadata": {},
     "output_type": "execute_result"
    }
   ],
   "source": [
    "np.dot(np.ones(n),  np.ones(n).T)"
   ]
  },
  {
   "cell_type": "code",
   "execution_count": 6,
   "metadata": {},
   "outputs": [
    {
     "data": {
      "text/plain": [
       "1.6550194283870732"
      ]
     },
     "execution_count": 6,
     "metadata": {},
     "output_type": "execute_result"
    }
   ],
   "source": [
    "A = np.matmul(rbf(X, np.var(X)),np.matmul(Q,np.matmul(rbf(X, np.var(X)), Q)))\n",
    "B = (1/(n**2))*np.trace(A)\n",
    "B"
   ]
  },
  {
   "cell_type": "code",
   "execution_count": 7,
   "metadata": {},
   "outputs": [
    {
     "data": {
      "text/plain": [
       "1.4802452982902805"
      ]
     },
     "execution_count": 7,
     "metadata": {},
     "output_type": "execute_result"
    }
   ],
   "source": [
    "A = np.matmul(rbf(X, np.var(X)),np.matmul(Q,np.matmul(rbf(Y, np.var(Y)), Q)))\n",
    "B = (1/(n**2))*np.trace(A)\n",
    "B"
   ]
  },
  {
   "cell_type": "code",
   "execution_count": 8,
   "metadata": {},
   "outputs": [
    {
     "data": {
      "text/plain": [
       "array([[10.90107823, 10.42890688, 10.40476036, 10.39756415, 10.47507183,\n",
       "        10.42905851, 10.3439823 , 10.10535171, 10.26520428, 10.27233211],\n",
       "       [14.01271937, 14.56018003, 14.17171077, 14.20744462, 14.29210754,\n",
       "        14.20754673, 14.53937976, 13.79229604, 13.97079235, 13.99964385],\n",
       "       [14.58820066, 14.62028867, 16.24056253, 15.63636039, 15.3959108 ,\n",
       "        15.33631008, 15.20226442, 14.87097817, 15.09903825, 15.07659664],\n",
       "       [18.75411274, 18.81270698, 19.99140084, 20.64341836, 19.80281774,\n",
       "        19.98312667, 19.58888663, 19.13178043, 19.44533777, 19.54402623],\n",
       "       [12.43541049, 12.47288435, 13.03297774, 13.04268006, 14.11818603,\n",
       "        13.14490656, 12.96330873, 12.67505834, 12.96899943, 12.84945013],\n",
       "       [15.04891613, 15.08824274, 15.76847114, 16.05958111, 15.96013882,\n",
       "        16.77672531, 15.68631991, 15.31679619, 15.60149371, 15.57094988],\n",
       "       [13.87441646, 14.13334652, 14.31238979, 14.36759606, 14.43500061,\n",
       "        14.35245857, 15.25865764, 13.96968201, 14.11656856, 14.16828081],\n",
       "       [ 9.51671303,  9.53833429,  9.99355256,  9.97432589, 10.04765839,\n",
       "         9.9876726 ,  9.97590394, 10.68252987,  9.94713452,  9.97800191],\n",
       "       [13.54308087, 13.5662569 , 14.2083435 , 14.24390584, 14.40449341,\n",
       "        14.27488358, 14.10289934, 13.8923843 , 14.94391676, 14.03997314],\n",
       "       [12.50375043, 12.52945043, 13.08880342, 13.25109038, 13.17735618,\n",
       "        13.14443254, 13.06229795, 12.8586309 , 12.95863439, 13.89927507]])"
      ]
     },
     "execution_count": 8,
     "metadata": {},
     "output_type": "execute_result"
    }
   ],
   "source": [
    "A"
   ]
  },
  {
   "cell_type": "code",
   "execution_count": 9,
   "metadata": {},
   "outputs": [
    {
     "data": {
      "text/plain": [
       "array([[ 1.47752107e-01,  8.97667265e-03, -2.45473843e-02,\n",
       "         5.93762359e-03,  1.50736690e-02, -4.05024453e-03,\n",
       "         1.69976260e-02,  3.66315759e-03, -1.33281355e-03,\n",
       "        -6.74298446e-03],\n",
       "       [ 8.97667265e-03,  1.42482501e-01, -1.17726033e-02,\n",
       "        -9.01918562e-03,  1.38422428e-02,  1.49159545e-02,\n",
       "        -5.56756580e-02,  1.44998999e-03,  8.28951795e-03,\n",
       "         1.50914181e-02],\n",
       "       [-2.45473843e-02, -1.17726033e-02,  1.29390896e-01,\n",
       "        -3.67972646e-02, -7.03360806e-03, -7.80689839e-04,\n",
       "         2.01811029e-02, -1.36390981e-03,  3.17680894e-04,\n",
       "         7.28394475e-04],\n",
       "       [ 5.93762359e-03, -9.01918562e-03, -3.67972646e-02,\n",
       "         7.10864180e-02, -6.90329804e-04,  1.05048881e-02,\n",
       "        -2.13677619e-02,  7.10362110e-03, -2.53132238e-04,\n",
       "        -1.93080432e-02],\n",
       "       [ 1.50736690e-02,  1.38422428e-02, -7.03360806e-03,\n",
       "        -6.90329804e-04,  2.24628774e-01,  1.38532383e-02,\n",
       "         2.89151952e-03,  1.56071266e-02, -3.22730079e-03,\n",
       "         1.32949218e-02],\n",
       "       [-4.05024453e-03,  1.49159545e-02, -7.80689839e-04,\n",
       "         1.05048881e-02,  1.38532383e-02,  6.99714307e-02,\n",
       "        -3.64277422e-05,  1.42010949e-02, -4.61612789e-04,\n",
       "        -1.57407242e-03],\n",
       "       [ 1.69976260e-02, -5.56756580e-02,  2.01811029e-02,\n",
       "        -2.13677619e-02,  2.89151952e-03, -3.64277422e-05,\n",
       "         1.62101133e-01,  1.03689939e-02,  8.68622473e-03,\n",
       "        -1.74133662e-02],\n",
       "       [ 3.66315759e-03,  1.44998999e-03, -1.36390981e-03,\n",
       "         7.10362110e-03,  1.56071266e-02,  1.42010949e-02,\n",
       "         1.03689939e-02,  1.34262774e-01, -6.81099074e-03,\n",
       "        -2.39161884e-02],\n",
       "       [-1.33281355e-03,  8.28951795e-03,  3.17680894e-04,\n",
       "        -2.53132238e-04, -3.22730079e-03, -4.61612789e-04,\n",
       "         8.68622473e-03, -6.81099074e-03,  3.64914439e-02,\n",
       "        -2.40369296e-05],\n",
       "       [-6.74298446e-03,  1.50914181e-02,  7.28394475e-04,\n",
       "        -1.93080432e-02,  1.32949218e-02, -1.57407242e-03,\n",
       "        -1.74133662e-02, -2.39161884e-02, -2.40369296e-05,\n",
       "         1.03699102e-01]])"
      ]
     },
     "execution_count": 9,
     "metadata": {},
     "output_type": "execute_result"
    }
   ],
   "source": [
    "centering(rbf(X))*centering(rbf(Y))"
   ]
  },
  {
   "cell_type": "code",
   "execution_count": 10,
   "metadata": {},
   "outputs": [
    {
     "data": {
      "text/plain": [
       "array([[309.59892794, 311.0236272 , 312.15903642, 309.93971048,\n",
       "        321.08232029, 311.12873419, 309.61806263, 306.83821219,\n",
       "        305.5424761 , 308.9712941 ],\n",
       "       [327.33507845, 328.89825443, 330.10531408, 327.83008624,\n",
       "        339.50153518, 328.97766515, 327.59731515, 324.55308735,\n",
       "        323.07489863, 326.75361303],\n",
       "       [344.50835302, 346.10600732, 347.69108039, 345.15197097,\n",
       "        357.64999659, 346.53603545, 344.89336606, 341.75240955,\n",
       "        340.30025552, 344.09369768],\n",
       "       [368.4636227 , 370.17110244, 371.7932355 , 369.14121994,\n",
       "        382.47431958, 370.61775867, 368.83394812, 365.46386018,\n",
       "        363.92042122, 367.99327666],\n",
       "       [344.62714786, 346.22727995, 347.67407315, 345.30092198,\n",
       "        358.01508324, 346.77242481, 344.97848748, 341.77893662,\n",
       "        340.4203511 , 344.13318841],\n",
       "       [374.55888006, 376.304633  , 377.84436741, 375.25966465,\n",
       "        388.87422535, 376.78822314, 374.89995558, 371.43431526,\n",
       "        369.90521631, 374.00649328],\n",
       "       [302.2698291 , 303.71951715, 304.87667755, 302.78024494,\n",
       "        313.52646377, 303.80652405, 302.63372304, 299.80264123,\n",
       "        298.38261849, 301.80576263],\n",
       "       [282.92019432, 284.23458451, 285.50744548, 283.43618496,\n",
       "        293.57546011, 284.46002859, 283.34944375, 280.78928515,\n",
       "        279.44827964, 282.63013704],\n",
       "       [372.58414205, 374.29598216, 375.87697891, 373.18380917,\n",
       "        386.76188452, 374.69940752, 372.87075716, 369.4922121 ,\n",
       "        367.96154035, 372.03807133],\n",
       "       [338.06346351, 339.61624367, 341.04054459, 338.5582114 ,\n",
       "        350.71309195, 339.86920231, 338.2828262 , 335.2291319 ,\n",
       "        333.78373633, 337.58692499]])"
      ]
     },
     "execution_count": 10,
     "metadata": {},
     "output_type": "execute_result"
    }
   ],
   "source": [
    "rbf(X)@Q@rbf(Y)@Q"
   ]
  },
  {
   "cell_type": "code",
   "execution_count": 11,
   "metadata": {},
   "outputs": [],
   "source": [
    "def my_kernel(X,Y, sigma=1):\n",
    "    K = np.zeros((X.shape[0],Y.shape[0]))\n",
    "    for i,x in enumerate(X):\n",
    "        for j,y in enumerate(Y):\n",
    "            K[i,j] = np.exp((-1*np.linalg.norm(x-y)**2)/(sigma**2))\n",
    "    return K"
   ]
  },
  {
   "cell_type": "code",
   "execution_count": 12,
   "metadata": {},
   "outputs": [],
   "source": [
    "X = np.random.randn(10)\n",
    "Y = np.random.exponential(234,10)\n",
    "Z = np.random.randn(10)\n",
    "a = 3*X+5"
   ]
  },
  {
   "cell_type": "code",
   "execution_count": 13,
   "metadata": {},
   "outputs": [],
   "source": [
    "K = my_kernel(X,X, np.var(X))\n",
    "L = my_kernel(Y,Y, np.var(Y))\n",
    "M = my_kernel(Z,Z, np.var(Z))\n",
    "A = my_kernel(a,a, np.var(a))"
   ]
  },
  {
   "cell_type": "code",
   "execution_count": 14,
   "metadata": {},
   "outputs": [
    {
     "data": {
      "text/plain": [
       "array([[1.00000000e+00, 8.48527590e-04, 1.21874595e-01, 8.80791682e-05,\n",
       "        9.22732297e-04, 5.39593189e-02, 8.63131009e-01, 5.61209443e-01,\n",
       "        3.18991853e-01, 1.87080782e-05],\n",
       "       [8.48527590e-04, 1.00000000e+00, 2.32101551e-01, 8.54610274e-01,\n",
       "        9.99750083e-01, 4.05043772e-01, 5.63540251e-03, 8.35996398e-06,\n",
       "        7.97078232e-02, 6.63785491e-01],\n",
       "       [1.21874595e-01, 2.32101551e-01, 1.00000000e+00, 7.60964669e-02,\n",
       "        2.41082360e-01, 9.35660137e-01, 3.20215077e-01, 7.53854529e-03,\n",
       "        8.64315716e-01, 3.27882764e-02],\n",
       "       [8.80791682e-05, 8.54610274e-01, 7.60964669e-02, 1.00000000e+00,\n",
       "        8.43755326e-01, 1.62919381e-01, 7.92897583e-04, 4.75053538e-07,\n",
       "        1.93072030e-02, 9.42301539e-01],\n",
       "       [9.22732297e-04, 9.99750083e-01, 2.41082360e-01, 8.43755326e-01,\n",
       "        1.00000000e+00, 4.17299703e-01, 6.05433323e-03, 9.31217573e-06,\n",
       "        8.37977024e-02, 6.50322094e-01],\n",
       "       [5.39593189e-02, 4.05043772e-01, 9.35660137e-01, 1.62919381e-01,\n",
       "        4.17299703e-01, 1.00000000e+00, 1.72794720e-01, 2.25526192e-03,\n",
       "        6.64135146e-01, 7.96035593e-02],\n",
       "       [8.63131009e-01, 5.63540251e-03, 3.20215077e-01, 7.92897583e-04,\n",
       "        6.05433323e-03, 1.72794720e-01, 1.00000000e+00, 2.70351679e-01,\n",
       "        6.25257204e-01, 2.03053349e-04],\n",
       "       [5.61209443e-01, 8.35996398e-06, 7.53854529e-03, 4.75053538e-07,\n",
       "        9.31217573e-06, 2.25526192e-03, 2.70351679e-01, 1.00000000e+00,\n",
       "        3.52568662e-02, 6.96566201e-08],\n",
       "       [3.18991853e-01, 7.97078232e-02, 8.64315716e-01, 1.93072030e-02,\n",
       "        8.37977024e-02, 6.64135146e-01, 6.25257204e-01, 3.52568662e-02,\n",
       "        1.00000000e+00, 6.90582819e-03],\n",
       "       [1.87080782e-05, 6.63785491e-01, 3.27882764e-02, 9.42301539e-01,\n",
       "        6.50322094e-01, 7.96035593e-02, 2.03053349e-04, 6.96566201e-08,\n",
       "        6.90582819e-03, 1.00000000e+00]])"
      ]
     },
     "execution_count": 14,
     "metadata": {},
     "output_type": "execute_result"
    }
   ],
   "source": [
    "K"
   ]
  },
  {
   "cell_type": "code",
   "execution_count": 15,
   "metadata": {},
   "outputs": [],
   "source": [
    "\n",
    "\n",
    "n = X.shape[0]\n",
    "unit = np.ones([n, n])\n",
    "I = np.eye(n)\n",
    "Q = I - (1/n)*unit\n",
    "#Q"
   ]
  },
  {
   "cell_type": "code",
   "execution_count": 16,
   "metadata": {},
   "outputs": [
    {
     "data": {
      "text/plain": [
       "array([[ 0.9, -0.1, -0.1, -0.1, -0.1, -0.1, -0.1, -0.1, -0.1, -0.1],\n",
       "       [-0.1,  0.9, -0.1, -0.1, -0.1, -0.1, -0.1, -0.1, -0.1, -0.1],\n",
       "       [-0.1, -0.1,  0.9, -0.1, -0.1, -0.1, -0.1, -0.1, -0.1, -0.1],\n",
       "       [-0.1, -0.1, -0.1,  0.9, -0.1, -0.1, -0.1, -0.1, -0.1, -0.1],\n",
       "       [-0.1, -0.1, -0.1, -0.1,  0.9, -0.1, -0.1, -0.1, -0.1, -0.1],\n",
       "       [-0.1, -0.1, -0.1, -0.1, -0.1,  0.9, -0.1, -0.1, -0.1, -0.1],\n",
       "       [-0.1, -0.1, -0.1, -0.1, -0.1, -0.1,  0.9, -0.1, -0.1, -0.1],\n",
       "       [-0.1, -0.1, -0.1, -0.1, -0.1, -0.1, -0.1,  0.9, -0.1, -0.1],\n",
       "       [-0.1, -0.1, -0.1, -0.1, -0.1, -0.1, -0.1, -0.1,  0.9, -0.1],\n",
       "       [-0.1, -0.1, -0.1, -0.1, -0.1, -0.1, -0.1, -0.1, -0.1,  0.9]])"
      ]
     },
     "execution_count": 16,
     "metadata": {},
     "output_type": "execute_result"
    }
   ],
   "source": [
    "Q"
   ]
  },
  {
   "cell_type": "code",
   "execution_count": 17,
   "metadata": {},
   "outputs": [
    {
     "data": {
      "text/plain": [
       "0.13733037721290065"
      ]
     },
     "execution_count": 17,
     "metadata": {},
     "output_type": "execute_result"
    }
   ],
   "source": [
    "(1/n**2)*np.trace(K@Q@K@Q)"
   ]
  },
  {
   "cell_type": "code",
   "execution_count": 18,
   "metadata": {},
   "outputs": [
    {
     "data": {
      "text/plain": [
       "1.2891102156385489e-06"
      ]
     },
     "execution_count": 18,
     "metadata": {},
     "output_type": "execute_result"
    }
   ],
   "source": [
    "(1/n**2)*np.trace(K@Q@L@Q)"
   ]
  },
  {
   "cell_type": "code",
   "execution_count": 19,
   "metadata": {},
   "outputs": [
    {
     "data": {
      "text/plain": [
       "0.025528786935943296"
      ]
     },
     "execution_count": 19,
     "metadata": {},
     "output_type": "execute_result"
    }
   ],
   "source": [
    "(1/n**2)*np.trace(K@Q@M@Q)"
   ]
  },
  {
   "cell_type": "code",
   "execution_count": 20,
   "metadata": {},
   "outputs": [
    {
     "data": {
      "text/plain": [
       "5.600110946093585e-07"
      ]
     },
     "execution_count": 20,
     "metadata": {},
     "output_type": "execute_result"
    }
   ],
   "source": [
    "(1/n**2)*np.trace(L@Q@M@Q)"
   ]
  },
  {
   "cell_type": "code",
   "execution_count": 21,
   "metadata": {},
   "outputs": [
    {
     "data": {
      "text/plain": [
       "0.06714624761139187"
      ]
     },
     "execution_count": 21,
     "metadata": {},
     "output_type": "execute_result"
    }
   ],
   "source": [
    "(1/n**2)*np.trace(K@Q@A@Q)"
   ]
  },
  {
   "cell_type": "code",
   "execution_count": 22,
   "metadata": {},
   "outputs": [
    {
     "data": {
      "text/plain": [
       "1.3040069611111641e-05"
      ]
     },
     "execution_count": 22,
     "metadata": {},
     "output_type": "execute_result"
    }
   ],
   "source": [
    "X2 = np.random.randn(10, 10)\n",
    "Y2 = np.random.exponential(234,(10, 10))\n",
    "\n",
    "K2 = rbf(X2, np.var(X2))\n",
    "L2 = rbf(Y2, np.var(Y2))\n",
    "\n",
    "n2 = X2.shape[0]\n",
    "unit2 = np.ones([n2, n2])\n",
    "I2 = np.eye(n2)\n",
    "Q2 = I2 - (1/n2)*unit2\n",
    "#Q\n",
    "\n",
    "(1/n**2)*np.trace(K2@Q2@L2@Q2)"
   ]
  },
  {
   "cell_type": "code",
   "execution_count": 23,
   "metadata": {},
   "outputs": [
    {
     "data": {
      "text/plain": [
       "0.08918418607134537"
      ]
     },
     "execution_count": 23,
     "metadata": {},
     "output_type": "execute_result"
    }
   ],
   "source": [
    "(1/n**2)*np.trace(K2@Q2@K2@Q2)"
   ]
  },
  {
   "cell_type": "markdown",
   "metadata": {},
   "source": [
    "# HSIC Function"
   ]
  },
  {
   "cell_type": "code",
   "execution_count": 24,
   "metadata": {},
   "outputs": [],
   "source": [
    "def my_HSIC_vec(x,y):\n",
    "    n=x.shape[0]\n",
    "    unit = np.ones([n, n])\n",
    "    I = np.eye(n)\n",
    "    Q = I - (1/n)*unit\n",
    "    k= my_kernel(x,x,np.var(x))\n",
    "    l= my_kernel(y,y,np.var(y))\n",
    "    return (1/n**2)*np.trace(k@Q@l@Q)"
   ]
  },
  {
   "cell_type": "code",
   "execution_count": 25,
   "metadata": {},
   "outputs": [
    {
     "data": {
      "text/plain": [
       "1.2891102156385489e-06"
      ]
     },
     "execution_count": 25,
     "metadata": {},
     "output_type": "execute_result"
    }
   ],
   "source": [
    "my_HSIC_vec(X,Y)"
   ]
  },
  {
   "cell_type": "code",
   "execution_count": 26,
   "metadata": {},
   "outputs": [],
   "source": [
    "from sklearn import datasets\n",
    "iris = datasets.load_iris()"
   ]
  },
  {
   "cell_type": "code",
   "execution_count": 27,
   "metadata": {},
   "outputs": [],
   "source": [
    "X=iris.data"
   ]
  },
  {
   "cell_type": "code",
   "execution_count": 28,
   "metadata": {},
   "outputs": [
    {
     "data": {
      "text/plain": [
       "{'DESCR': 'Iris Plants Database\\n====================\\n\\nNotes\\n-----\\nData Set Characteristics:\\n    :Number of Instances: 150 (50 in each of three classes)\\n    :Number of Attributes: 4 numeric, predictive attributes and the class\\n    :Attribute Information:\\n        - sepal length in cm\\n        - sepal width in cm\\n        - petal length in cm\\n        - petal width in cm\\n        - class:\\n                - Iris-Setosa\\n                - Iris-Versicolour\\n                - Iris-Virginica\\n    :Summary Statistics:\\n\\n    ============== ==== ==== ======= ===== ====================\\n                    Min  Max   Mean    SD   Class Correlation\\n    ============== ==== ==== ======= ===== ====================\\n    sepal length:   4.3  7.9   5.84   0.83    0.7826\\n    sepal width:    2.0  4.4   3.05   0.43   -0.4194\\n    petal length:   1.0  6.9   3.76   1.76    0.9490  (high!)\\n    petal width:    0.1  2.5   1.20  0.76     0.9565  (high!)\\n    ============== ==== ==== ======= ===== ====================\\n\\n    :Missing Attribute Values: None\\n    :Class Distribution: 33.3% for each of 3 classes.\\n    :Creator: R.A. Fisher\\n    :Donor: Michael Marshall (MARSHALL%PLU@io.arc.nasa.gov)\\n    :Date: July, 1988\\n\\nThis is a copy of UCI ML iris datasets.\\nhttp://archive.ics.uci.edu/ml/datasets/Iris\\n\\nThe famous Iris database, first used by Sir R.A Fisher\\n\\nThis is perhaps the best known database to be found in the\\npattern recognition literature.  Fisher\\'s paper is a classic in the field and\\nis referenced frequently to this day.  (See Duda & Hart, for example.)  The\\ndata set contains 3 classes of 50 instances each, where each class refers to a\\ntype of iris plant.  One class is linearly separable from the other 2; the\\nlatter are NOT linearly separable from each other.\\n\\nReferences\\n----------\\n   - Fisher,R.A. \"The use of multiple measurements in taxonomic problems\"\\n     Annual Eugenics, 7, Part II, 179-188 (1936); also in \"Contributions to\\n     Mathematical Statistics\" (John Wiley, NY, 1950).\\n   - Duda,R.O., & Hart,P.E. (1973) Pattern Classification and Scene Analysis.\\n     (Q327.D83) John Wiley & Sons.  ISBN 0-471-22361-1.  See page 218.\\n   - Dasarathy, B.V. (1980) \"Nosing Around the Neighborhood: A New System\\n     Structure and Classification Rule for Recognition in Partially Exposed\\n     Environments\".  IEEE Transactions on Pattern Analysis and Machine\\n     Intelligence, Vol. PAMI-2, No. 1, 67-71.\\n   - Gates, G.W. (1972) \"The Reduced Nearest Neighbor Rule\".  IEEE Transactions\\n     on Information Theory, May 1972, 431-433.\\n   - See also: 1988 MLC Proceedings, 54-64.  Cheeseman et al\"s AUTOCLASS II\\n     conceptual clustering system finds 3 classes in the data.\\n   - Many, many more ...\\n',\n",
       " 'data': array([[5.1, 3.5, 1.4, 0.2],\n",
       "        [4.9, 3. , 1.4, 0.2],\n",
       "        [4.7, 3.2, 1.3, 0.2],\n",
       "        [4.6, 3.1, 1.5, 0.2],\n",
       "        [5. , 3.6, 1.4, 0.2],\n",
       "        [5.4, 3.9, 1.7, 0.4],\n",
       "        [4.6, 3.4, 1.4, 0.3],\n",
       "        [5. , 3.4, 1.5, 0.2],\n",
       "        [4.4, 2.9, 1.4, 0.2],\n",
       "        [4.9, 3.1, 1.5, 0.1],\n",
       "        [5.4, 3.7, 1.5, 0.2],\n",
       "        [4.8, 3.4, 1.6, 0.2],\n",
       "        [4.8, 3. , 1.4, 0.1],\n",
       "        [4.3, 3. , 1.1, 0.1],\n",
       "        [5.8, 4. , 1.2, 0.2],\n",
       "        [5.7, 4.4, 1.5, 0.4],\n",
       "        [5.4, 3.9, 1.3, 0.4],\n",
       "        [5.1, 3.5, 1.4, 0.3],\n",
       "        [5.7, 3.8, 1.7, 0.3],\n",
       "        [5.1, 3.8, 1.5, 0.3],\n",
       "        [5.4, 3.4, 1.7, 0.2],\n",
       "        [5.1, 3.7, 1.5, 0.4],\n",
       "        [4.6, 3.6, 1. , 0.2],\n",
       "        [5.1, 3.3, 1.7, 0.5],\n",
       "        [4.8, 3.4, 1.9, 0.2],\n",
       "        [5. , 3. , 1.6, 0.2],\n",
       "        [5. , 3.4, 1.6, 0.4],\n",
       "        [5.2, 3.5, 1.5, 0.2],\n",
       "        [5.2, 3.4, 1.4, 0.2],\n",
       "        [4.7, 3.2, 1.6, 0.2],\n",
       "        [4.8, 3.1, 1.6, 0.2],\n",
       "        [5.4, 3.4, 1.5, 0.4],\n",
       "        [5.2, 4.1, 1.5, 0.1],\n",
       "        [5.5, 4.2, 1.4, 0.2],\n",
       "        [4.9, 3.1, 1.5, 0.1],\n",
       "        [5. , 3.2, 1.2, 0.2],\n",
       "        [5.5, 3.5, 1.3, 0.2],\n",
       "        [4.9, 3.1, 1.5, 0.1],\n",
       "        [4.4, 3. , 1.3, 0.2],\n",
       "        [5.1, 3.4, 1.5, 0.2],\n",
       "        [5. , 3.5, 1.3, 0.3],\n",
       "        [4.5, 2.3, 1.3, 0.3],\n",
       "        [4.4, 3.2, 1.3, 0.2],\n",
       "        [5. , 3.5, 1.6, 0.6],\n",
       "        [5.1, 3.8, 1.9, 0.4],\n",
       "        [4.8, 3. , 1.4, 0.3],\n",
       "        [5.1, 3.8, 1.6, 0.2],\n",
       "        [4.6, 3.2, 1.4, 0.2],\n",
       "        [5.3, 3.7, 1.5, 0.2],\n",
       "        [5. , 3.3, 1.4, 0.2],\n",
       "        [7. , 3.2, 4.7, 1.4],\n",
       "        [6.4, 3.2, 4.5, 1.5],\n",
       "        [6.9, 3.1, 4.9, 1.5],\n",
       "        [5.5, 2.3, 4. , 1.3],\n",
       "        [6.5, 2.8, 4.6, 1.5],\n",
       "        [5.7, 2.8, 4.5, 1.3],\n",
       "        [6.3, 3.3, 4.7, 1.6],\n",
       "        [4.9, 2.4, 3.3, 1. ],\n",
       "        [6.6, 2.9, 4.6, 1.3],\n",
       "        [5.2, 2.7, 3.9, 1.4],\n",
       "        [5. , 2. , 3.5, 1. ],\n",
       "        [5.9, 3. , 4.2, 1.5],\n",
       "        [6. , 2.2, 4. , 1. ],\n",
       "        [6.1, 2.9, 4.7, 1.4],\n",
       "        [5.6, 2.9, 3.6, 1.3],\n",
       "        [6.7, 3.1, 4.4, 1.4],\n",
       "        [5.6, 3. , 4.5, 1.5],\n",
       "        [5.8, 2.7, 4.1, 1. ],\n",
       "        [6.2, 2.2, 4.5, 1.5],\n",
       "        [5.6, 2.5, 3.9, 1.1],\n",
       "        [5.9, 3.2, 4.8, 1.8],\n",
       "        [6.1, 2.8, 4. , 1.3],\n",
       "        [6.3, 2.5, 4.9, 1.5],\n",
       "        [6.1, 2.8, 4.7, 1.2],\n",
       "        [6.4, 2.9, 4.3, 1.3],\n",
       "        [6.6, 3. , 4.4, 1.4],\n",
       "        [6.8, 2.8, 4.8, 1.4],\n",
       "        [6.7, 3. , 5. , 1.7],\n",
       "        [6. , 2.9, 4.5, 1.5],\n",
       "        [5.7, 2.6, 3.5, 1. ],\n",
       "        [5.5, 2.4, 3.8, 1.1],\n",
       "        [5.5, 2.4, 3.7, 1. ],\n",
       "        [5.8, 2.7, 3.9, 1.2],\n",
       "        [6. , 2.7, 5.1, 1.6],\n",
       "        [5.4, 3. , 4.5, 1.5],\n",
       "        [6. , 3.4, 4.5, 1.6],\n",
       "        [6.7, 3.1, 4.7, 1.5],\n",
       "        [6.3, 2.3, 4.4, 1.3],\n",
       "        [5.6, 3. , 4.1, 1.3],\n",
       "        [5.5, 2.5, 4. , 1.3],\n",
       "        [5.5, 2.6, 4.4, 1.2],\n",
       "        [6.1, 3. , 4.6, 1.4],\n",
       "        [5.8, 2.6, 4. , 1.2],\n",
       "        [5. , 2.3, 3.3, 1. ],\n",
       "        [5.6, 2.7, 4.2, 1.3],\n",
       "        [5.7, 3. , 4.2, 1.2],\n",
       "        [5.7, 2.9, 4.2, 1.3],\n",
       "        [6.2, 2.9, 4.3, 1.3],\n",
       "        [5.1, 2.5, 3. , 1.1],\n",
       "        [5.7, 2.8, 4.1, 1.3],\n",
       "        [6.3, 3.3, 6. , 2.5],\n",
       "        [5.8, 2.7, 5.1, 1.9],\n",
       "        [7.1, 3. , 5.9, 2.1],\n",
       "        [6.3, 2.9, 5.6, 1.8],\n",
       "        [6.5, 3. , 5.8, 2.2],\n",
       "        [7.6, 3. , 6.6, 2.1],\n",
       "        [4.9, 2.5, 4.5, 1.7],\n",
       "        [7.3, 2.9, 6.3, 1.8],\n",
       "        [6.7, 2.5, 5.8, 1.8],\n",
       "        [7.2, 3.6, 6.1, 2.5],\n",
       "        [6.5, 3.2, 5.1, 2. ],\n",
       "        [6.4, 2.7, 5.3, 1.9],\n",
       "        [6.8, 3. , 5.5, 2.1],\n",
       "        [5.7, 2.5, 5. , 2. ],\n",
       "        [5.8, 2.8, 5.1, 2.4],\n",
       "        [6.4, 3.2, 5.3, 2.3],\n",
       "        [6.5, 3. , 5.5, 1.8],\n",
       "        [7.7, 3.8, 6.7, 2.2],\n",
       "        [7.7, 2.6, 6.9, 2.3],\n",
       "        [6. , 2.2, 5. , 1.5],\n",
       "        [6.9, 3.2, 5.7, 2.3],\n",
       "        [5.6, 2.8, 4.9, 2. ],\n",
       "        [7.7, 2.8, 6.7, 2. ],\n",
       "        [6.3, 2.7, 4.9, 1.8],\n",
       "        [6.7, 3.3, 5.7, 2.1],\n",
       "        [7.2, 3.2, 6. , 1.8],\n",
       "        [6.2, 2.8, 4.8, 1.8],\n",
       "        [6.1, 3. , 4.9, 1.8],\n",
       "        [6.4, 2.8, 5.6, 2.1],\n",
       "        [7.2, 3. , 5.8, 1.6],\n",
       "        [7.4, 2.8, 6.1, 1.9],\n",
       "        [7.9, 3.8, 6.4, 2. ],\n",
       "        [6.4, 2.8, 5.6, 2.2],\n",
       "        [6.3, 2.8, 5.1, 1.5],\n",
       "        [6.1, 2.6, 5.6, 1.4],\n",
       "        [7.7, 3. , 6.1, 2.3],\n",
       "        [6.3, 3.4, 5.6, 2.4],\n",
       "        [6.4, 3.1, 5.5, 1.8],\n",
       "        [6. , 3. , 4.8, 1.8],\n",
       "        [6.9, 3.1, 5.4, 2.1],\n",
       "        [6.7, 3.1, 5.6, 2.4],\n",
       "        [6.9, 3.1, 5.1, 2.3],\n",
       "        [5.8, 2.7, 5.1, 1.9],\n",
       "        [6.8, 3.2, 5.9, 2.3],\n",
       "        [6.7, 3.3, 5.7, 2.5],\n",
       "        [6.7, 3. , 5.2, 2.3],\n",
       "        [6.3, 2.5, 5. , 1.9],\n",
       "        [6.5, 3. , 5.2, 2. ],\n",
       "        [6.2, 3.4, 5.4, 2.3],\n",
       "        [5.9, 3. , 5.1, 1.8]]),\n",
       " 'feature_names': ['sepal length (cm)',\n",
       "  'sepal width (cm)',\n",
       "  'petal length (cm)',\n",
       "  'petal width (cm)'],\n",
       " 'target': array([0, 0, 0, 0, 0, 0, 0, 0, 0, 0, 0, 0, 0, 0, 0, 0, 0, 0, 0, 0, 0, 0,\n",
       "        0, 0, 0, 0, 0, 0, 0, 0, 0, 0, 0, 0, 0, 0, 0, 0, 0, 0, 0, 0, 0, 0,\n",
       "        0, 0, 0, 0, 0, 0, 1, 1, 1, 1, 1, 1, 1, 1, 1, 1, 1, 1, 1, 1, 1, 1,\n",
       "        1, 1, 1, 1, 1, 1, 1, 1, 1, 1, 1, 1, 1, 1, 1, 1, 1, 1, 1, 1, 1, 1,\n",
       "        1, 1, 1, 1, 1, 1, 1, 1, 1, 1, 1, 1, 2, 2, 2, 2, 2, 2, 2, 2, 2, 2,\n",
       "        2, 2, 2, 2, 2, 2, 2, 2, 2, 2, 2, 2, 2, 2, 2, 2, 2, 2, 2, 2, 2, 2,\n",
       "        2, 2, 2, 2, 2, 2, 2, 2, 2, 2, 2, 2, 2, 2, 2, 2, 2, 2]),\n",
       " 'target_names': array(['setosa', 'versicolor', 'virginica'], dtype='<U10')}"
      ]
     },
     "execution_count": 28,
     "metadata": {},
     "output_type": "execute_result"
    }
   ],
   "source": [
    "iris"
   ]
  },
  {
   "cell_type": "code",
   "execution_count": 29,
   "metadata": {},
   "outputs": [],
   "source": [
    "X1 = X[:,0]\n",
    "X2 = X[:,1]\n",
    "X3 = np.abs(3*np.exp(X[:,2])/47.32 - 345*7+4)\n",
    "X4 = X[:,3]"
   ]
  },
  {
   "cell_type": "code",
   "execution_count": 30,
   "metadata": {},
   "outputs": [
    {
     "data": {
      "text/plain": [
       "0.01720681563739857"
      ]
     },
     "execution_count": 30,
     "metadata": {},
     "output_type": "execute_result"
    }
   ],
   "source": [
    "my_HSIC_vec(X1, X2)"
   ]
  },
  {
   "cell_type": "code",
   "execution_count": 31,
   "metadata": {},
   "outputs": [
    {
     "data": {
      "text/plain": [
       "0.0018384855662645402"
      ]
     },
     "execution_count": 31,
     "metadata": {},
     "output_type": "execute_result"
    }
   ],
   "source": [
    "my_HSIC_vec(X1, X3)"
   ]
  },
  {
   "cell_type": "code",
   "execution_count": 32,
   "metadata": {},
   "outputs": [],
   "source": [
    "hsic_iris= np.empty((4,4))"
   ]
  },
  {
   "cell_type": "code",
   "execution_count": 33,
   "metadata": {},
   "outputs": [],
   "source": [
    "for i in range(X.shape[1]):\n",
    "    for j in range(X.shape[1]):\n",
    "        hsic_iris[i,j] = my_HSIC_vec(X[:, i], X[:,j])\n",
    "    "
   ]
  },
  {
   "cell_type": "code",
   "execution_count": 34,
   "metadata": {},
   "outputs": [
    {
     "data": {
      "text/plain": [
       "array([[0.11569347, 0.01720682, 0.06306317, 0.06677033],\n",
       "       [0.01720682, 0.09273902, 0.01448833, 0.02348032],\n",
       "       [0.06306317, 0.01448833, 0.09043775, 0.09980701],\n",
       "       [0.06677033, 0.02348032, 0.09980701, 0.15118151]])"
      ]
     },
     "execution_count": 34,
     "metadata": {},
     "output_type": "execute_result"
    }
   ],
   "source": [
    "hsic_iris"
   ]
  },
  {
   "cell_type": "code",
   "execution_count": 2,
   "metadata": {},
   "outputs": [],
   "source": [
    "def my_HSIC_mat(x,y):\n",
    "    n=x.shape[0]\n",
    "    unit = np.ones([n, n])\n",
    "    I = np.eye(n)\n",
    "    Q = I - (1/n)*unit\n",
    "    k= rbf(x,np.var(x))\n",
    "    l= rbf(y,np.var(y))\n",
    "    return (1/n**2)*np.trace(k@Q@l@Q)"
   ]
  },
  {
   "cell_type": "code",
   "execution_count": 36,
   "metadata": {},
   "outputs": [
    {
     "data": {
      "text/plain": [
       "0.008854844318309098"
      ]
     },
     "execution_count": 36,
     "metadata": {},
     "output_type": "execute_result"
    }
   ],
   "source": [
    "X = np.random.randn(10, 5)\n",
    "Y = np.random.normal(12, 6,(10, 5))\n",
    "Z = np.random.gamma(234, 21,(10, 5))\n",
    "\n",
    "my_HSIC_mat(X,Y)"
   ]
  },
  {
   "cell_type": "code",
   "execution_count": 37,
   "metadata": {},
   "outputs": [
    {
     "data": {
      "text/plain": [
       "7.977035479105656e-07"
      ]
     },
     "execution_count": 37,
     "metadata": {},
     "output_type": "execute_result"
    }
   ],
   "source": [
    "my_HSIC_mat(Z,Y)"
   ]
  },
  {
   "cell_type": "code",
   "execution_count": 38,
   "metadata": {},
   "outputs": [
    {
     "name": "stdout",
     "output_type": "stream",
     "text": [
      "[[21.01414231 12.44456868 21.77169327  3.71939125  1.77970536]\n",
      " [11.66671381 14.30439269 11.80383151 -0.4046526  11.46527976]\n",
      " [ 4.173183   16.01803529 14.19958948  6.36072128  8.9167985 ]\n",
      " [ 5.64471887 11.62392542 17.73085392  6.08564372 15.02427909]\n",
      " [ 8.81845429  7.24276301 11.35781784  5.78854607  8.67810417]\n",
      " [ 4.81273264 23.7883508  12.21158131  7.80164695 13.28387946]\n",
      " [11.3260317  10.6741824  15.6850002  16.54504626  8.81699311]\n",
      " [ 8.54509056 10.34968982 -1.81152699  2.90885363 20.2012456 ]\n",
      " [21.86980628 10.50578376 15.45934178 13.86750093 30.47328485]\n",
      " [18.71744947 11.23249445  6.26675736  2.36132208 13.22078182]]\n",
      "[[4668.1867919  4464.45652439 4702.35670359 4567.93683401 5468.75771027]\n",
      " [5195.4904904  4931.87787436 4635.67988696 4581.50866686 4846.15275632]\n",
      " [5210.3567065  5545.81589842 4471.59948725 5089.94600526 4701.08699017]\n",
      " [4752.2833559  4922.59238229 4645.06140031 4830.69442284 4621.39124987]\n",
      " [4724.16990609 5153.50388618 4938.95571659 5152.17595189 4697.35026916]\n",
      " [5092.45603768 4402.86656937 4922.45190806 5114.86200002 4392.72768891]\n",
      " [4700.71465775 4922.23114832 5237.16962054 4724.13217927 5079.04450639]\n",
      " [5384.45626768 5094.58640957 4842.10869956 5027.10814007 4715.65748638]\n",
      " [4934.84864859 4857.19560837 5016.17339638 4775.9675879  5034.71509434]\n",
      " [4773.09684656 5191.9848143  4803.08567546 4281.38986412 4590.45641353]]\n"
     ]
    }
   ],
   "source": [
    "print(Y)\n",
    "print(Z)"
   ]
  },
  {
   "cell_type": "code",
   "execution_count": 39,
   "metadata": {},
   "outputs": [
    {
     "data": {
      "text/plain": [
       "5.984389262316224e-06"
      ]
     },
     "execution_count": 39,
     "metadata": {},
     "output_type": "execute_result"
    }
   ],
   "source": [
    "my_HSIC_mat(X,Z)"
   ]
  },
  {
   "cell_type": "code",
   "execution_count": 40,
   "metadata": {},
   "outputs": [],
   "source": [
    "boston = datasets.load_boston()"
   ]
  },
  {
   "cell_type": "code",
   "execution_count": 41,
   "metadata": {},
   "outputs": [
    {
     "name": "stdout",
     "output_type": "stream",
     "text": [
      "[[6.3200e-03 1.8000e+01 2.3100e+00 ... 1.5300e+01 3.9690e+02 4.9800e+00]\n",
      " [2.7310e-02 0.0000e+00 7.0700e+00 ... 1.7800e+01 3.9690e+02 9.1400e+00]\n",
      " [2.7290e-02 0.0000e+00 7.0700e+00 ... 1.7800e+01 3.9283e+02 4.0300e+00]\n",
      " ...\n",
      " [6.0760e-02 0.0000e+00 1.1930e+01 ... 2.1000e+01 3.9690e+02 5.6400e+00]\n",
      " [1.0959e-01 0.0000e+00 1.1930e+01 ... 2.1000e+01 3.9345e+02 6.4800e+00]\n",
      " [4.7410e-02 0.0000e+00 1.1930e+01 ... 2.1000e+01 3.9690e+02 7.8800e+00]]\n"
     ]
    }
   ],
   "source": [
    "B = boston.data\n",
    "print(B)"
   ]
  },
  {
   "cell_type": "code",
   "execution_count": 42,
   "metadata": {},
   "outputs": [],
   "source": [
    "hsic_boston = np.empty((B.shape[1],B.shape[1]))\n"
   ]
  },
  {
   "cell_type": "code",
   "execution_count": 43,
   "metadata": {},
   "outputs": [],
   "source": [
    "for i in range(B.shape[1]):\n",
    "    for j in range(B.shape[1]):\n",
    "        hsic_boston[i,j] = my_HSIC_vec(B[:, i], B[:,j])"
   ]
  },
  {
   "cell_type": "code",
   "execution_count": 44,
   "metadata": {},
   "outputs": [
    {
     "data": {
      "text/plain": [
       "array([3.20045090e-06, 1.32493961e-05, 4.12284277e-05, 8.55039685e-07,\n",
       "       1.68829495e-04, 9.15937240e-05, 2.97709247e-06, 3.00473395e-04,\n",
       "       8.99469907e-06, 2.54257061e-08, 1.20274055e-04, 2.69662002e-08,\n",
       "       2.24513476e-05])"
      ]
     },
     "execution_count": 44,
     "metadata": {},
     "output_type": "execute_result"
    }
   ],
   "source": [
    "hsic_boston[:,1]"
   ]
  },
  {
   "cell_type": "code",
   "execution_count": 45,
   "metadata": {},
   "outputs": [
    {
     "data": {
      "text/plain": [
       "0.08971929760975317"
      ]
     },
     "execution_count": 45,
     "metadata": {},
     "output_type": "execute_result"
    }
   ],
   "source": [
    "np.max(hsic_boston)"
   ]
  },
  {
   "cell_type": "code",
   "execution_count": 46,
   "metadata": {},
   "outputs": [
    {
     "data": {
      "text/plain": [
       "3.307437050218337e-09"
      ]
     },
     "execution_count": 46,
     "metadata": {},
     "output_type": "execute_result"
    }
   ],
   "source": [
    "np.min(hsic_boston)"
   ]
  },
  {
   "cell_type": "code",
   "execution_count": 47,
   "metadata": {},
   "outputs": [
    {
     "name": "stdout",
     "output_type": "stream",
     "text": [
      "[[3.27543970e-04 3.20045090e-06 1.48361034e-04 8.20680797e-06\n",
      "  5.32012094e-04 1.16281505e-04 6.71455220e-06 7.01031710e-04\n",
      "  2.16081039e-04 5.18967424e-07 4.73491456e-04 7.39185868e-07\n",
      "  1.62436164e-04]\n",
      " [3.20045090e-06 1.32493961e-05 4.12284277e-05 8.55039685e-07\n",
      "  1.68829495e-04 9.15937240e-05 2.97709247e-06 3.00473395e-04\n",
      "  8.99469907e-06 2.54257061e-08 1.20274055e-04 2.69662002e-08\n",
      "  2.24513476e-05]\n",
      " [1.48361034e-04 4.12284277e-05 1.57545501e-03 2.17928974e-05\n",
      "  2.06788052e-03 8.06478752e-04 4.17634610e-05 4.18678349e-03\n",
      "  3.72803075e-04 1.48620286e-06 1.48657692e-03 1.25196156e-06\n",
      "  5.22909609e-04]\n",
      " [8.20680797e-06 8.55039685e-07 2.17928974e-05 1.65819586e-02\n",
      "  5.65105345e-04 1.69640941e-04 2.42787773e-06 2.72582528e-04\n",
      "  2.41507980e-07 1.15036779e-08 4.54318481e-04 7.36471685e-08\n",
      "  1.21589771e-05]\n",
      " [5.32012094e-04 1.68829495e-04 2.06788052e-03 5.65105345e-04\n",
      "  4.97068804e-02 3.74781152e-03 1.24252915e-04 1.34487107e-02\n",
      "  1.01395624e-03 3.04451433e-06 6.89675561e-03 3.56412950e-06\n",
      "  1.09715309e-03]\n",
      " [1.16281505e-04 9.15937240e-05 8.06478752e-04 1.69640941e-04\n",
      "  3.74781152e-03 8.97192976e-02 2.52067383e-05 1.94182120e-03\n",
      "  9.69982439e-05 4.75777446e-07 3.99833284e-03 3.48488097e-07\n",
      "  1.70205687e-03]\n",
      " [6.71455220e-06 2.97709247e-06 4.17634610e-05 2.42787773e-06\n",
      "  1.24252915e-04 2.52067383e-05 6.33969806e-06 3.00868547e-04\n",
      "  1.33389080e-05 4.55762941e-08 6.10090898e-05 4.52831177e-08\n",
      "  3.29695824e-05]\n",
      " [7.01031710e-04 3.00473395e-04 4.18678349e-03 2.72582528e-04\n",
      "  1.34487107e-02 1.94182120e-03 3.00868547e-04 4.35544101e-02\n",
      "  1.41805810e-03 4.85574649e-06 5.02400116e-03 4.96121616e-06\n",
      "  1.85599280e-03]\n",
      " [2.16081039e-04 8.99469907e-06 3.72803075e-04 2.41507980e-07\n",
      "  1.01395624e-03 9.69982439e-05 1.33389080e-05 1.41805810e-03\n",
      "  6.49941917e-04 1.49060335e-06 1.40224879e-03 1.21034474e-06\n",
      "  2.18661610e-04]\n",
      " [5.18967424e-07 2.54257061e-08 1.48620286e-06 1.15036778e-08\n",
      "  3.04451433e-06 4.75777446e-07 4.55762941e-08 4.85574649e-06\n",
      "  1.49060335e-06 4.97625639e-09 3.79387738e-06 3.30743705e-09\n",
      "  7.50097565e-07]\n",
      " [4.73491456e-04 1.20274055e-04 1.48657692e-03 4.54318481e-04\n",
      "  6.89675561e-03 3.99833284e-03 6.10090898e-05 5.02400116e-03\n",
      "  1.40224879e-03 3.79387738e-06 4.49088464e-02 2.24275610e-06\n",
      "  1.20492972e-03]\n",
      " [7.39185868e-07 2.69662002e-08 1.25196156e-06 7.36471685e-08\n",
      "  3.56412950e-06 3.48488097e-07 4.52831177e-08 4.96121616e-06\n",
      "  1.21034474e-06 3.30743705e-09 2.24275610e-06 5.76999451e-08\n",
      "  1.15547067e-06]\n",
      " [1.62436164e-04 2.24513476e-05 5.22909609e-04 1.21589771e-05\n",
      "  1.09715309e-03 1.70205687e-03 3.29695824e-05 1.85599280e-03\n",
      "  2.18661610e-04 7.50097565e-07 1.20492972e-03 1.15547067e-06\n",
      "  1.24761136e-03]]\n"
     ]
    }
   ],
   "source": [
    "print(hsic_boston)"
   ]
  },
  {
   "cell_type": "code",
   "execution_count": 3,
   "metadata": {},
   "outputs": [
    {
     "name": "stdout",
     "output_type": "stream",
     "text": [
      "15.218197666234994\n",
      "0.005534027442692105\n",
      "24.529198600969554\n",
      "0.009899999999999994\n",
      "24.529198600969558\n",
      "15.218197666234998\n",
      "15.384555521700552\n",
      "15.61835284542002\n",
      "15.618352845420022\n"
     ]
    }
   ],
   "source": [
    "if __name__ == '__main__':\n",
    "    X = np.random.randn(100, 100)\n",
    "    X2 = 5*X+7\n",
    "    Y = np.random.normal(5, 11, size=(100, 100))\n",
    "    Z = np.random.gamma(234, 21,(100, 100))\n",
    "    print(HSIC(X, Y))\n",
    "    print(my_HSIC_mat(X,Y))\n",
    "    print(HSIC(X, X))\n",
    "    print(my_HSIC_mat(X,X))\n",
    "    print(HSIC(X, X2))\n",
    "    print(HSIC(Y, X2))\n",
    "    print(HSIC(Y, Z))\n",
    "    print(HSIC(X, Z))\n",
    "    print(HSIC(Z, X2))"
   ]
  },
  {
   "cell_type": "code",
   "execution_count": 6,
   "metadata": {},
   "outputs": [
    {
     "name": "stdout",
     "output_type": "stream",
     "text": [
      "0.005467589697839362\n",
      "0.009899999999999994\n",
      "0.009697760392379606\n",
      "0.005353783825523842\n",
      "9.53620832586439e-06\n",
      "9.342487923905675e-06\n"
     ]
    }
   ],
   "source": [
    "if __name__ == '__main__':\n",
    "    X = np.random.randn(100, 100)\n",
    "    X2 = 5*X+7\n",
    "    Y = np.random.normal(5, 11, size=(100, 100))\n",
    "    Z = np.random.gamma(234, 21,(100, 100))\n",
    "    print(my_HSIC_mat(X,Y))\n",
    "    print(my_HSIC_mat(X,X))\n",
    "    print(my_HSIC_mat(X,X2))\n",
    "    print(my_HSIC_mat(X2,Y))\n",
    "    print(my_HSIC_mat(X,Z))\n",
    "    print(my_HSIC_mat(X2,Z))"
   ]
  },
  {
   "cell_type": "code",
   "execution_count": null,
   "metadata": {},
   "outputs": [],
   "source": []
  }
 ],
 "metadata": {
  "kernelspec": {
   "display_name": "Python 3",
   "language": "python",
   "name": "python3"
  },
  "language_info": {
   "codemirror_mode": {
    "name": "ipython",
    "version": 3
   },
   "file_extension": ".py",
   "mimetype": "text/x-python",
   "name": "python",
   "nbconvert_exporter": "python",
   "pygments_lexer": "ipython3",
   "version": "3.6.4"
  }
 },
 "nbformat": 4,
 "nbformat_minor": 2
}
